{
 "cells": [
  {
   "cell_type": "markdown",
   "id": "9374d56b",
   "metadata": {
    "_cell_guid": "b1076dfc-b9ad-4769-8c92-a6c4dae69d19",
    "_uuid": "8f2839f25d086af736a60e9eeb907d3b93b6e0e5",
    "papermill": {
     "duration": 0.010729,
     "end_time": "2024-05-27T11:46:48.153014",
     "exception": false,
     "start_time": "2024-05-27T11:46:48.142285",
     "status": "completed"
    },
    "tags": []
   },
   "source": [
    "# IBM Db2 \n",
    "\n",
    "In this notebook I will be using a Db2 database to create a dataset of football players with certain characteristics. \n",
    "\n"
   ]
  },
  {
   "cell_type": "markdown",
   "id": "2df240d8",
   "metadata": {
    "papermill": {
     "duration": 0.010579,
     "end_time": "2024-05-27T11:46:48.174571",
     "exception": false,
     "start_time": "2024-05-27T11:46:48.163992",
     "status": "completed"
    },
    "tags": []
   },
   "source": [
    "## Cloud Databases\n",
    "\n",
    "A Cloud database is a database service built and accessed through a Cloud platform. It has many of the same functions as traditional databases with the added flexibility of Cloud computing. \n",
    "Some advantages of using Cloud databases:\n",
    "* Ease of use: Users can accesss these databases from virtually everywhere using a vendors API or web interface, or your own applications. \n",
    "* Scalability: They can expand and shrink their storage and compute capacities during runtime to accomodate changing needs and usage demands, so you only pay for what you need. \n",
    "* Disaster Recovery: Data is kept secure through backups on remote servers on cloud in geographically distributed regions. \n",
    "\n"
   ]
  },
  {
   "cell_type": "code",
   "execution_count": 1,
   "id": "e88abf3a",
   "metadata": {
    "execution": {
     "iopub.execute_input": "2024-05-27T11:46:48.197507Z",
     "iopub.status.busy": "2024-05-27T11:46:48.196672Z",
     "iopub.status.idle": "2024-05-27T11:48:26.098761Z",
     "shell.execute_reply": "2024-05-27T11:48:26.096797Z"
    },
    "papermill": {
     "duration": 97.917617,
     "end_time": "2024-05-27T11:48:26.102138",
     "exception": false,
     "start_time": "2024-05-27T11:46:48.184521",
     "status": "completed"
    },
    "tags": []
   },
   "outputs": [
    {
     "name": "stdout",
     "output_type": "stream",
     "text": [
      "Collecting ibm_db==3.1.0\r\n",
      "  Downloading ibm_db-3.1.0.tar.gz (797 kB)\r\n",
      "\u001b[2K     \u001b[90m━━━━━━━━━━━━━━━━━━━━━━━━━━━━━━━━━━━━━━\u001b[0m \u001b[32m797.3/797.3 kB\u001b[0m \u001b[31m11.9 MB/s\u001b[0m eta \u001b[36m0:00:00\u001b[0m\r\n",
      "\u001b[?25h  Installing build dependencies ... \u001b[?25l-\b \b\\\b \b|\b \b/\b \bdone\r\n",
      "\u001b[?25h  Getting requirements to build wheel ... \u001b[?25l-\b \b\\\b \bdone\r\n",
      "\u001b[?25h  Installing backend dependencies ... \u001b[?25l-\b \b\\\b \bdone\r\n",
      "\u001b[?25h  Preparing metadata (pyproject.toml) ... \u001b[?25l-\b \bdone\r\n",
      "\u001b[?25hCollecting ibm_db_sa==0.3.3\r\n",
      "  Downloading ibm_db_sa-0.3.3.tar.gz (24 kB)\r\n",
      "  Preparing metadata (setup.py) ... \u001b[?25l-\b \bdone\r\n",
      "\u001b[?25hCollecting sqlalchemy>=0.7.3 (from ibm_db_sa==0.3.3)\r\n",
      "  Downloading SQLAlchemy-2.0.30-cp310-cp310-manylinux_2_17_x86_64.manylinux2014_x86_64.whl.metadata (9.6 kB)\r\n",
      "Collecting typing-extensions>=4.6.0 (from sqlalchemy>=0.7.3->ibm_db_sa==0.3.3)\r\n",
      "  Downloading typing_extensions-4.12.0-py3-none-any.whl.metadata (3.0 kB)\r\n",
      "Collecting greenlet!=0.4.17 (from sqlalchemy>=0.7.3->ibm_db_sa==0.3.3)\r\n",
      "  Downloading greenlet-3.0.3-cp310-cp310-manylinux_2_24_x86_64.manylinux_2_28_x86_64.whl.metadata (3.8 kB)\r\n",
      "Downloading SQLAlchemy-2.0.30-cp310-cp310-manylinux_2_17_x86_64.manylinux2014_x86_64.whl (3.1 MB)\r\n",
      "\u001b[2K   \u001b[90m━━━━━━━━━━━━━━━━━━━━━━━━━━━━━━━━━━━━━━━━\u001b[0m \u001b[32m3.1/3.1 MB\u001b[0m \u001b[31m52.5 MB/s\u001b[0m eta \u001b[36m0:00:00\u001b[0m\r\n",
      "\u001b[?25hDownloading greenlet-3.0.3-cp310-cp310-manylinux_2_24_x86_64.manylinux_2_28_x86_64.whl (616 kB)\r\n",
      "\u001b[2K   \u001b[90m━━━━━━━━━━━━━━━━━━━━━━━━━━━━━━━━━━━━━━━━\u001b[0m \u001b[32m616.0/616.0 kB\u001b[0m \u001b[31m21.3 MB/s\u001b[0m eta \u001b[36m0:00:00\u001b[0m\r\n",
      "\u001b[?25hDownloading typing_extensions-4.12.0-py3-none-any.whl (37 kB)\r\n",
      "Building wheels for collected packages: ibm_db, ibm_db_sa\r\n",
      "  Building wheel for ibm_db (pyproject.toml) ... \u001b[?25l-\b \b\\\b \b|\b \b/\b \b-\b \b\\\b \b|\b \b/\b \b-\b \b\\\b \b|\b \b/\b \b-\b \b\\\b \b|\b \b/\b \b-\b \b\\\b \b|\b \b/\b \b-\b \b\\\b \b|\b \b/\b \b-\b \b\\\b \b|\b \b/\b \b-\b \b\\\b \b|\b \b/\b \b-\b \bdone\r\n",
      "\u001b[?25h  Created wheel for ibm_db: filename=ibm_db-3.1.0-cp310-cp310-linux_x86_64.whl size=41726101 sha256=3d177f865ca4f3bdfc1fc9501ea79e387877d7f3226b9eb436f095e1c9c22e58\r\n",
      "  Stored in directory: /root/.cache/pip/wheels/50/d7/3d/cf01ca490baa2f299aca0c791a2a5708d9b9676608374e2f31\r\n",
      "  Building wheel for ibm_db_sa (setup.py) ... \u001b[?25l-\b \b\\\b \bdone\r\n",
      "\u001b[?25h  Created wheel for ibm_db_sa: filename=ibm_db_sa-0.3.3-py3-none-any.whl size=27419 sha256=9ef6c265e91a37c7797468007a22fb5c3b71f07f797fb3a147926e98a0a3bb9a\r\n",
      "  Stored in directory: /root/.cache/pip/wheels/63/28/d7/aea2c85d7ff99e1e8dffc7424367812bf53659141c203f2c9a\r\n",
      "Successfully built ibm_db ibm_db_sa\r\n",
      "Installing collected packages: ibm_db, typing-extensions, greenlet, sqlalchemy, ibm_db_sa\r\n",
      "  Attempting uninstall: typing-extensions\r\n",
      "    Found existing installation: typing_extensions 4.9.0\r\n",
      "    Uninstalling typing_extensions-4.9.0:\r\n",
      "      Successfully uninstalled typing_extensions-4.9.0\r\n",
      "  Attempting uninstall: greenlet\r\n",
      "    Found existing installation: greenlet 3.0.3\r\n",
      "    Uninstalling greenlet-3.0.3:\r\n",
      "      Successfully uninstalled greenlet-3.0.3\r\n",
      "  Attempting uninstall: sqlalchemy\r\n",
      "    Found existing installation: SQLAlchemy 2.0.25\r\n",
      "    Uninstalling SQLAlchemy-2.0.25:\r\n",
      "      Successfully uninstalled SQLAlchemy-2.0.25\r\n",
      "\u001b[31mERROR: pip's dependency resolver does not currently take into account all the packages that are installed. This behaviour is the source of the following dependency conflicts.\r\n",
      "tensorflow-decision-forests 1.8.1 requires wurlitzer, which is not installed.\r\n",
      "apache-beam 2.46.0 requires dill<0.3.2,>=0.3.1.1, but you have dill 0.3.8 which is incompatible.\r\n",
      "apache-beam 2.46.0 requires numpy<1.25.0,>=1.14.3, but you have numpy 1.26.4 which is incompatible.\r\n",
      "apache-beam 2.46.0 requires pyarrow<10.0.0,>=3.0.0, but you have pyarrow 15.0.2 which is incompatible.\r\n",
      "jupyterlab 4.1.6 requires jupyter-lsp>=2.0.0, but you have jupyter-lsp 1.5.1 which is incompatible.\r\n",
      "jupyterlab-lsp 5.1.0 requires jupyter-lsp>=2.0.0, but you have jupyter-lsp 1.5.1 which is incompatible.\r\n",
      "tensorflow 2.15.0 requires keras<2.16,>=2.15.0, but you have keras 3.2.1 which is incompatible.\r\n",
      "ydata-profiling 4.6.4 requires numpy<1.26,>=1.16.0, but you have numpy 1.26.4 which is incompatible.\u001b[0m\u001b[31m\r\n",
      "\u001b[0mSuccessfully installed greenlet-3.0.3 ibm_db-3.1.0 ibm_db_sa-0.3.3 sqlalchemy-2.0.30 typing-extensions-4.12.0\r\n"
     ]
    }
   ],
   "source": [
    "!pip install --force-reinstall ibm_db==3.1.0 ibm_db_sa==0.3.3"
   ]
  },
  {
   "cell_type": "code",
   "execution_count": 2,
   "id": "79f37622",
   "metadata": {
    "execution": {
     "iopub.execute_input": "2024-05-27T11:48:26.142946Z",
     "iopub.status.busy": "2024-05-27T11:48:26.142438Z",
     "iopub.status.idle": "2024-05-27T11:48:52.648064Z",
     "shell.execute_reply": "2024-05-27T11:48:52.646127Z"
    },
    "papermill": {
     "duration": 26.531447,
     "end_time": "2024-05-27T11:48:52.651305",
     "exception": false,
     "start_time": "2024-05-27T11:48:26.119858",
     "status": "completed"
    },
    "tags": []
   },
   "outputs": [
    {
     "name": "stdout",
     "output_type": "stream",
     "text": [
      "Found existing installation: SQLAlchemy 2.0.30\r\n",
      "Uninstalling SQLAlchemy-2.0.30:\r\n",
      "  Successfully uninstalled SQLAlchemy-2.0.30\r\n",
      "Collecting sqlalchemy==1.3.24\r\n",
      "  Downloading SQLAlchemy-1.3.24.tar.gz (6.4 MB)\r\n",
      "\u001b[2K     \u001b[90m━━━━━━━━━━━━━━━━━━━━━━━━━━━━━━━━━━━━━━━━\u001b[0m \u001b[32m6.4/6.4 MB\u001b[0m \u001b[31m39.5 MB/s\u001b[0m eta \u001b[36m0:00:00\u001b[0m\r\n",
      "\u001b[?25h  Preparing metadata (setup.py) ... \u001b[?25l-\b \bdone\r\n",
      "\u001b[?25hBuilding wheels for collected packages: sqlalchemy\r\n",
      "  Building wheel for sqlalchemy (setup.py) ... \u001b[?25l-\b \b\\\b \bdone\r\n",
      "\u001b[?25h  Created wheel for sqlalchemy: filename=SQLAlchemy-1.3.24-cp310-cp310-linux_x86_64.whl size=1220150 sha256=e0d4a54a2b953b01679a1b1639a2073e748e4a7ed772884c407b3f3d41f7fbdf\r\n",
      "  Stored in directory: /root/.cache/pip/wheels/27/51/b3/3481e88d5a5ba95dd4aafedc9316774d941c4ba61cfb93add8\r\n",
      "Successfully built sqlalchemy\r\n",
      "Installing collected packages: sqlalchemy\r\n",
      "\u001b[31mERROR: pip's dependency resolver does not currently take into account all the packages that are installed. This behaviour is the source of the following dependency conflicts.\r\n",
      "ipython-sql 0.5.0 requires sqlalchemy>=2.0, but you have sqlalchemy 1.3.24 which is incompatible.\u001b[0m\u001b[31m\r\n",
      "\u001b[0mSuccessfully installed sqlalchemy-1.3.24\r\n"
     ]
    }
   ],
   "source": [
    "!pip uninstall sqlalchemy==1.4 -y && pip install sqlalchemy==1.3.24"
   ]
  },
  {
   "cell_type": "code",
   "execution_count": 3,
   "id": "8cea7023",
   "metadata": {
    "execution": {
     "iopub.execute_input": "2024-05-27T11:48:52.691082Z",
     "iopub.status.busy": "2024-05-27T11:48:52.690586Z",
     "iopub.status.idle": "2024-05-27T11:49:11.604425Z",
     "shell.execute_reply": "2024-05-27T11:49:11.602547Z"
    },
    "papermill": {
     "duration": 18.938625,
     "end_time": "2024-05-27T11:49:11.608670",
     "exception": false,
     "start_time": "2024-05-27T11:48:52.670045",
     "status": "completed"
    },
    "tags": []
   },
   "outputs": [
    {
     "name": "stdout",
     "output_type": "stream",
     "text": [
      "Requirement already satisfied: ipython-sql in /opt/conda/lib/python3.10/site-packages (0.5.0)\r\n",
      "Requirement already satisfied: prettytable in /opt/conda/lib/python3.10/site-packages (from ipython-sql) (3.9.0)\r\n",
      "Requirement already satisfied: ipython in /opt/conda/lib/python3.10/site-packages (from ipython-sql) (8.20.0)\r\n",
      "Collecting sqlalchemy>=2.0 (from ipython-sql)\r\n",
      "  Using cached SQLAlchemy-2.0.30-cp310-cp310-manylinux_2_17_x86_64.manylinux2014_x86_64.whl.metadata (9.6 kB)\r\n",
      "Requirement already satisfied: sqlparse in /opt/conda/lib/python3.10/site-packages (from ipython-sql) (0.4.4)\r\n",
      "Requirement already satisfied: six in /opt/conda/lib/python3.10/site-packages (from ipython-sql) (1.16.0)\r\n",
      "Requirement already satisfied: ipython-genutils in /opt/conda/lib/python3.10/site-packages (from ipython-sql) (0.2.0)\r\n",
      "Requirement already satisfied: typing-extensions>=4.6.0 in /opt/conda/lib/python3.10/site-packages (from sqlalchemy>=2.0->ipython-sql) (4.12.0)\r\n",
      "Requirement already satisfied: greenlet!=0.4.17 in /opt/conda/lib/python3.10/site-packages (from sqlalchemy>=2.0->ipython-sql) (3.0.3)\r\n",
      "Requirement already satisfied: decorator in /opt/conda/lib/python3.10/site-packages (from ipython->ipython-sql) (5.1.1)\r\n",
      "Requirement already satisfied: jedi>=0.16 in /opt/conda/lib/python3.10/site-packages (from ipython->ipython-sql) (0.19.1)\r\n",
      "Requirement already satisfied: matplotlib-inline in /opt/conda/lib/python3.10/site-packages (from ipython->ipython-sql) (0.1.6)\r\n",
      "Requirement already satisfied: prompt-toolkit<3.1.0,>=3.0.41 in /opt/conda/lib/python3.10/site-packages (from ipython->ipython-sql) (3.0.42)\r\n",
      "Requirement already satisfied: pygments>=2.4.0 in /opt/conda/lib/python3.10/site-packages (from ipython->ipython-sql) (2.17.2)\r\n",
      "Requirement already satisfied: stack-data in /opt/conda/lib/python3.10/site-packages (from ipython->ipython-sql) (0.6.2)\r\n",
      "Requirement already satisfied: traitlets>=5 in /opt/conda/lib/python3.10/site-packages (from ipython->ipython-sql) (5.9.0)\r\n",
      "Requirement already satisfied: exceptiongroup in /opt/conda/lib/python3.10/site-packages (from ipython->ipython-sql) (1.2.0)\r\n",
      "Requirement already satisfied: pexpect>4.3 in /opt/conda/lib/python3.10/site-packages (from ipython->ipython-sql) (4.8.0)\r\n",
      "Requirement already satisfied: wcwidth in /opt/conda/lib/python3.10/site-packages (from prettytable->ipython-sql) (0.2.13)\r\n",
      "Requirement already satisfied: parso<0.9.0,>=0.8.3 in /opt/conda/lib/python3.10/site-packages (from jedi>=0.16->ipython->ipython-sql) (0.8.3)\r\n",
      "Requirement already satisfied: ptyprocess>=0.5 in /opt/conda/lib/python3.10/site-packages (from pexpect>4.3->ipython->ipython-sql) (0.7.0)\r\n",
      "Requirement already satisfied: executing>=1.2.0 in /opt/conda/lib/python3.10/site-packages (from stack-data->ipython->ipython-sql) (2.0.1)\r\n",
      "Requirement already satisfied: asttokens>=2.1.0 in /opt/conda/lib/python3.10/site-packages (from stack-data->ipython->ipython-sql) (2.4.1)\r\n",
      "Requirement already satisfied: pure-eval in /opt/conda/lib/python3.10/site-packages (from stack-data->ipython->ipython-sql) (0.2.2)\r\n",
      "Using cached SQLAlchemy-2.0.30-cp310-cp310-manylinux_2_17_x86_64.manylinux2014_x86_64.whl (3.1 MB)\r\n",
      "Installing collected packages: sqlalchemy\r\n",
      "  Attempting uninstall: sqlalchemy\r\n",
      "    Found existing installation: SQLAlchemy 1.3.24\r\n",
      "    Uninstalling SQLAlchemy-1.3.24:\r\n",
      "      Successfully uninstalled SQLAlchemy-1.3.24\r\n",
      "Successfully installed sqlalchemy-2.0.30\r\n"
     ]
    }
   ],
   "source": [
    "!pip install ipython-sql"
   ]
  },
  {
   "cell_type": "code",
   "execution_count": 4,
   "id": "6d20cfbb",
   "metadata": {
    "execution": {
     "iopub.execute_input": "2024-05-27T11:49:11.654627Z",
     "iopub.status.busy": "2024-05-27T11:49:11.653943Z",
     "iopub.status.idle": "2024-05-27T11:49:11.772067Z",
     "shell.execute_reply": "2024-05-27T11:49:11.770179Z"
    },
    "papermill": {
     "duration": 0.14494,
     "end_time": "2024-05-27T11:49:11.775808",
     "exception": false,
     "start_time": "2024-05-27T11:49:11.630868",
     "status": "completed"
    },
    "tags": []
   },
   "outputs": [],
   "source": [
    "import ibm_db"
   ]
  },
  {
   "cell_type": "code",
   "execution_count": 5,
   "id": "2a1a09cb",
   "metadata": {
    "execution": {
     "iopub.execute_input": "2024-05-27T11:49:11.820804Z",
     "iopub.status.busy": "2024-05-27T11:49:11.820305Z",
     "iopub.status.idle": "2024-05-27T11:49:13.290355Z",
     "shell.execute_reply": "2024-05-27T11:49:13.288746Z"
    },
    "papermill": {
     "duration": 1.497234,
     "end_time": "2024-05-27T11:49:13.294460",
     "exception": false,
     "start_time": "2024-05-27T11:49:11.797226",
     "status": "completed"
    },
    "tags": []
   },
   "outputs": [],
   "source": [
    "%load_ext sql "
   ]
  },
  {
   "cell_type": "markdown",
   "id": "c0c67fee",
   "metadata": {
    "papermill": {
     "duration": 0.020283,
     "end_time": "2024-05-27T11:49:13.336551",
     "exception": false,
     "start_time": "2024-05-27T11:49:13.316268",
     "status": "completed"
    },
    "tags": []
   },
   "source": [
    "### Database Connection Credentials "
   ]
  },
  {
   "cell_type": "code",
   "execution_count": 6,
   "id": "9f9d91b5",
   "metadata": {
    "execution": {
     "iopub.execute_input": "2024-05-27T11:49:13.379210Z",
     "iopub.status.busy": "2024-05-27T11:49:13.378555Z",
     "iopub.status.idle": "2024-05-27T11:49:13.385990Z",
     "shell.execute_reply": "2024-05-27T11:49:13.384375Z"
    },
    "papermill": {
     "duration": 0.031894,
     "end_time": "2024-05-27T11:49:13.388717",
     "exception": false,
     "start_time": "2024-05-27T11:49:13.356823",
     "status": "completed"
    },
    "tags": []
   },
   "outputs": [],
   "source": [
    "dsn_hostname = \"2d46b6b4-cbf6-40eb-bbce-6251e6ba0300.bs2io90l08kqb1od8lcg.databases.appdomain.cloud\" # e.g.: \"54a2f15b-5c0f-46df-8954-7e38e612c2bd.c1ogj3sd0tgtu0lqde00.databases.appdomain.cloud\"\n",
    "dsn_uid = \"vpc61689\"        # e.g. \"abc12345\"\n",
    "dsn_pwd = \"jboiCdMPKZLcYWAC\"      # e.g. \"7dBZ3wWt9XN6$o0J\"\n",
    "\n",
    "dsn_driver = \"{IBM DB2 ODBC DRIVER}\"\n",
    "dsn_database = \"BLUDB\"            # e.g. \"BLUDB\"\n",
    "dsn_port = \"32328\"                # e.g. \"32733\" \n",
    "dsn_protocol = \"TCPIP\"            # i.e. \"TCPIP\"\n",
    "dsn_security = \"SSL\"              #i.e. \"SSL\""
   ]
  },
  {
   "cell_type": "markdown",
   "id": "323aecfa",
   "metadata": {
    "papermill": {
     "duration": 0.019572,
     "end_time": "2024-05-27T11:49:13.428352",
     "exception": false,
     "start_time": "2024-05-27T11:49:13.408780",
     "status": "completed"
    },
    "tags": []
   },
   "source": [
    "### Connect DB2 Database Connection"
   ]
  },
  {
   "cell_type": "code",
   "execution_count": 7,
   "id": "5e7a143d",
   "metadata": {
    "execution": {
     "iopub.execute_input": "2024-05-27T11:49:13.470836Z",
     "iopub.status.busy": "2024-05-27T11:49:13.470330Z",
     "iopub.status.idle": "2024-05-27T11:49:13.478346Z",
     "shell.execute_reply": "2024-05-27T11:49:13.476498Z"
    },
    "papermill": {
     "duration": 0.033036,
     "end_time": "2024-05-27T11:49:13.481564",
     "exception": false,
     "start_time": "2024-05-27T11:49:13.448528",
     "status": "completed"
    },
    "tags": []
   },
   "outputs": [
    {
     "name": "stdout",
     "output_type": "stream",
     "text": [
      "DRIVER={IBM DB2 ODBC DRIVER};DATABASE=BLUDB;HOSTNAME=2d46b6b4-cbf6-40eb-bbce-6251e6ba0300.bs2io90l08kqb1od8lcg.databases.appdomain.cloud;PORT=32328;PROTOCOL=TCPIP;UID=vpc61689;PWD=jboiCdMPKZLcYWAC;SECURITY=SSL;\n"
     ]
    }
   ],
   "source": [
    "dsn = (\n",
    "    \"DRIVER={0};\"\n",
    "    \"DATABASE={1};\"\n",
    "    \"HOSTNAME={2};\"\n",
    "    \"PORT={3};\"\n",
    "    \"PROTOCOL={4};\"\n",
    "    \"UID={5};\"\n",
    "    \"PWD={6};\"\n",
    "    \"SECURITY={7};\").format(dsn_driver, dsn_database, dsn_hostname, dsn_port, dsn_protocol, dsn_uid, dsn_pwd,dsn_security)\n",
    "\n",
    "#print the connection string to check correct values are specified\n",
    "print(dsn)"
   ]
  },
  {
   "cell_type": "markdown",
   "id": "dcf39447",
   "metadata": {
    "papermill": {
     "duration": 0.021347,
     "end_time": "2024-05-27T11:49:13.524426",
     "exception": false,
     "start_time": "2024-05-27T11:49:13.503079",
     "status": "completed"
    },
    "tags": []
   },
   "source": [
    "### Establish Connections to the database"
   ]
  },
  {
   "cell_type": "code",
   "execution_count": 8,
   "id": "6a1adf96",
   "metadata": {
    "execution": {
     "iopub.execute_input": "2024-05-27T11:49:13.568282Z",
     "iopub.status.busy": "2024-05-27T11:49:13.567815Z",
     "iopub.status.idle": "2024-05-27T11:49:15.337098Z",
     "shell.execute_reply": "2024-05-27T11:49:15.335653Z"
    },
    "papermill": {
     "duration": 1.794648,
     "end_time": "2024-05-27T11:49:15.340333",
     "exception": false,
     "start_time": "2024-05-27T11:49:13.545685",
     "status": "completed"
    },
    "tags": []
   },
   "outputs": [
    {
     "name": "stdout",
     "output_type": "stream",
     "text": [
      "Connected to database:  BLUDB as user:  vpc61689 on host:  2d46b6b4-cbf6-40eb-bbce-6251e6ba0300.bs2io90l08kqb1od8lcg.databases.appdomain.cloud\n"
     ]
    }
   ],
   "source": [
    "#DO NOT MODIFY THIS CELL. Just RUN it with Shift + Enter\n",
    "#Create database connection\n",
    "\n",
    "try:\n",
    "    conn = ibm_db.connect(dsn, \"\", \"\")\n",
    "    print (\"Connected to database: \", dsn_database, \"as user: \", dsn_uid, \"on host: \", dsn_hostname)\n",
    "\n",
    "except:\n",
    "    print (\"Unable to connect: \", ibm_db.conn_errormsg() )"
   ]
  },
  {
   "cell_type": "markdown",
   "id": "d00a56db",
   "metadata": {
    "papermill": {
     "duration": 0.01983,
     "end_time": "2024-05-27T11:49:15.381487",
     "exception": false,
     "start_time": "2024-05-27T11:49:15.361657",
     "status": "completed"
    },
    "tags": []
   },
   "source": [
    "### Metadata for Database server"
   ]
  },
  {
   "cell_type": "code",
   "execution_count": 9,
   "id": "e2bd2056",
   "metadata": {
    "execution": {
     "iopub.execute_input": "2024-05-27T11:49:15.424146Z",
     "iopub.status.busy": "2024-05-27T11:49:15.423716Z",
     "iopub.status.idle": "2024-05-27T11:49:15.430807Z",
     "shell.execute_reply": "2024-05-27T11:49:15.429314Z"
    },
    "papermill": {
     "duration": 0.031841,
     "end_time": "2024-05-27T11:49:15.433472",
     "exception": false,
     "start_time": "2024-05-27T11:49:15.401631",
     "status": "completed"
    },
    "tags": []
   },
   "outputs": [
    {
     "name": "stdout",
     "output_type": "stream",
     "text": [
      "DBMS_NAME:  DB2/LINUXX8664\n",
      "DBMS_VER:   11.05.0900\n",
      "DB_NAME:    BLUDB\n"
     ]
    }
   ],
   "source": [
    "server = ibm_db.server_info(conn)\n",
    "\n",
    "print (\"DBMS_NAME: \", server.DBMS_NAME)\n",
    "print (\"DBMS_VER:  \", server.DBMS_VER)\n",
    "print (\"DB_NAME:   \", server.DB_NAME)"
   ]
  },
  {
   "cell_type": "markdown",
   "id": "44f80f06",
   "metadata": {
    "papermill": {
     "duration": 0.021235,
     "end_time": "2024-05-27T11:49:15.475340",
     "exception": false,
     "start_time": "2024-05-27T11:49:15.454105",
     "status": "completed"
    },
    "tags": []
   },
   "source": [
    "### Metadata for the Database Client/Driver"
   ]
  },
  {
   "cell_type": "code",
   "execution_count": 10,
   "id": "96637d99",
   "metadata": {
    "execution": {
     "iopub.execute_input": "2024-05-27T11:49:15.519509Z",
     "iopub.status.busy": "2024-05-27T11:49:15.519030Z",
     "iopub.status.idle": "2024-05-27T11:49:15.528528Z",
     "shell.execute_reply": "2024-05-27T11:49:15.527025Z"
    },
    "papermill": {
     "duration": 0.035414,
     "end_time": "2024-05-27T11:49:15.531467",
     "exception": false,
     "start_time": "2024-05-27T11:49:15.496053",
     "status": "completed"
    },
    "tags": []
   },
   "outputs": [
    {
     "name": "stdout",
     "output_type": "stream",
     "text": [
      "DRIVER_NAME:           libdb2.a\n",
      "DRIVER_VER:            11.05.0900\n",
      "DATA_SOURCE_NAME:      BLUDB\n",
      "DRIVER_ODBC_VER:       03.51\n",
      "ODBC_VER:              03.01.0000\n",
      "ODBC_SQL_CONFORMANCE:  EXTENDED\n",
      "APPL_CODEPAGE:         819\n",
      "CONN_CODEPAGE:         1208\n"
     ]
    }
   ],
   "source": [
    "client = ibm_db.client_info(conn)\n",
    "\n",
    "print (\"DRIVER_NAME:          \", client.DRIVER_NAME) \n",
    "print (\"DRIVER_VER:           \", client.DRIVER_VER)\n",
    "print (\"DATA_SOURCE_NAME:     \", client.DATA_SOURCE_NAME)\n",
    "print (\"DRIVER_ODBC_VER:      \", client.DRIVER_ODBC_VER)\n",
    "print (\"ODBC_VER:             \", client.ODBC_VER)\n",
    "print (\"ODBC_SQL_CONFORMANCE: \", client.ODBC_SQL_CONFORMANCE)\n",
    "print (\"APPL_CODEPAGE:        \", client.APPL_CODEPAGE)\n",
    "print (\"CONN_CODEPAGE:        \", client.CONN_CODEPAGE)"
   ]
  },
  {
   "cell_type": "markdown",
   "id": "d211ab77",
   "metadata": {
    "papermill": {
     "duration": 0.020377,
     "end_time": "2024-05-27T11:49:15.573028",
     "exception": false,
     "start_time": "2024-05-27T11:49:15.552651",
     "status": "completed"
    },
    "tags": []
   },
   "source": [
    "Need to delete previous instances of table"
   ]
  },
  {
   "cell_type": "code",
   "execution_count": 11,
   "id": "3235252c",
   "metadata": {
    "execution": {
     "iopub.execute_input": "2024-05-27T11:49:15.617559Z",
     "iopub.status.busy": "2024-05-27T11:49:15.617125Z",
     "iopub.status.idle": "2024-05-27T11:49:15.818991Z",
     "shell.execute_reply": "2024-05-27T11:49:15.817243Z"
    },
    "papermill": {
     "duration": 0.228336,
     "end_time": "2024-05-27T11:49:15.822273",
     "exception": false,
     "start_time": "2024-05-27T11:49:15.593937",
     "status": "completed"
    },
    "tags": []
   },
   "outputs": [],
   "source": [
    "#Lets first drop the table INSTRUCTOR in case it exists from a previous attempt\n",
    "dropQuery = \"drop table FOOTBALLERS\"\n",
    "\n",
    "#Now execute the drop statment\n",
    "dropStmt = ibm_db.exec_immediate(conn, dropQuery)"
   ]
  },
  {
   "cell_type": "markdown",
   "id": "9c9b8a50",
   "metadata": {
    "papermill": {
     "duration": 0.022176,
     "end_time": "2024-05-27T11:49:15.865282",
     "exception": false,
     "start_time": "2024-05-27T11:49:15.843106",
     "status": "completed"
    },
    "tags": []
   },
   "source": [
    "### Creating a table in the database"
   ]
  },
  {
   "cell_type": "code",
   "execution_count": 12,
   "id": "ca3dc2e4",
   "metadata": {
    "execution": {
     "iopub.execute_input": "2024-05-27T11:49:15.909391Z",
     "iopub.status.busy": "2024-05-27T11:49:15.908892Z",
     "iopub.status.idle": "2024-05-27T11:49:16.205544Z",
     "shell.execute_reply": "2024-05-27T11:49:16.203653Z"
    },
    "papermill": {
     "duration": 0.323057,
     "end_time": "2024-05-27T11:49:16.209110",
     "exception": false,
     "start_time": "2024-05-27T11:49:15.886053",
     "status": "completed"
    },
    "tags": []
   },
   "outputs": [],
   "source": [
    "createQuery = \"create table FOOTBALLERS(id INTEGER PRIMARY KEY NOT NULL, FNAME VARCHAR(20), LNAME VARCHAR(20), AGE INT, POSITION CHAR(2), LEAGUE VARCHAR(20), TEAM VARCHAR(20), WAGE INT)\"\n",
    "createStmt = ibm_db.exec_immediate(conn, createQuery)"
   ]
  },
  {
   "cell_type": "code",
   "execution_count": 13,
   "id": "dff3bfad",
   "metadata": {
    "execution": {
     "iopub.execute_input": "2024-05-27T11:49:16.253637Z",
     "iopub.status.busy": "2024-05-27T11:49:16.252818Z",
     "iopub.status.idle": "2024-05-27T11:49:16.405426Z",
     "shell.execute_reply": "2024-05-27T11:49:16.404035Z"
    },
    "papermill": {
     "duration": 0.178703,
     "end_time": "2024-05-27T11:49:16.408786",
     "exception": false,
     "start_time": "2024-05-27T11:49:16.230083",
     "status": "completed"
    },
    "tags": []
   },
   "outputs": [],
   "source": [
    "insertQuery = \"insert into FOOTBALLERS values (1, 'Bukayo', 'Saka', 22, 'RW', 'Premier League', 'Arsenal', 295000)\"\n",
    "\n",
    "\n",
    "insertStmt = ibm_db.exec_immediate(conn, insertQuery)"
   ]
  },
  {
   "cell_type": "code",
   "execution_count": 14,
   "id": "c3df0336",
   "metadata": {
    "execution": {
     "iopub.execute_input": "2024-05-27T11:49:16.558466Z",
     "iopub.status.busy": "2024-05-27T11:49:16.557693Z",
     "iopub.status.idle": "2024-05-27T11:49:16.708501Z",
     "shell.execute_reply": "2024-05-27T11:49:16.707438Z"
    },
    "papermill": {
     "duration": 0.17696,
     "end_time": "2024-05-27T11:49:16.711754",
     "exception": false,
     "start_time": "2024-05-27T11:49:16.534794",
     "status": "completed"
    },
    "tags": []
   },
   "outputs": [],
   "source": [
    "insertQuery2 = \"insert into FOOTBALLERS values (2, 'Declan', 'Rice', 25, 'CM', 'Premier League', 'Arsenal', 250000), (3, 'Kylian', 'Mbappe', 25, 'LW','Ligue 1', 'PSG', 630000), (4, 'Jude', 'Bellingham', 20, 'CM', 'La Liga','Real Madrid', 220000), (5, 'Phil', 'Foden', 23, 'CM', 'Premier League', 'Man City', 200000), (6, 'Marcus', 'Rashford', 26, 'LW', 'Premier League', 'Man United', 300000)\"\n",
    "\n",
    "insertStmt2 = ibm_db.exec_immediate(conn, insertQuery2)"
   ]
  },
  {
   "cell_type": "code",
   "execution_count": 15,
   "id": "f7db0e23",
   "metadata": {
    "execution": {
     "iopub.execute_input": "2024-05-27T11:49:16.758717Z",
     "iopub.status.busy": "2024-05-27T11:49:16.758022Z",
     "iopub.status.idle": "2024-05-27T11:49:16.916024Z",
     "shell.execute_reply": "2024-05-27T11:49:16.914675Z"
    },
    "papermill": {
     "duration": 0.185644,
     "end_time": "2024-05-27T11:49:16.919238",
     "exception": false,
     "start_time": "2024-05-27T11:49:16.733594",
     "status": "completed"
    },
    "tags": []
   },
   "outputs": [
    {
     "data": {
      "text/plain": [
       "{'ID': 1,\n",
       " 0: 1,\n",
       " 'FNAME': 'Bukayo',\n",
       " 1: 'Bukayo',\n",
       " 'LNAME': 'Saka',\n",
       " 2: 'Saka',\n",
       " 'AGE': 22,\n",
       " 3: 22,\n",
       " 'POSITION': 'RW',\n",
       " 4: 'RW',\n",
       " 'LEAGUE': 'Premier League',\n",
       " 5: 'Premier League',\n",
       " 'TEAM': 'Arsenal',\n",
       " 6: 'Arsenal',\n",
       " 'WAGE': 295000,\n",
       " 7: 295000}"
      ]
     },
     "execution_count": 15,
     "metadata": {},
     "output_type": "execute_result"
    }
   ],
   "source": [
    "selectQuery = \"select * from FOOTBALLERS\"\n",
    "\n",
    "selectStmt = ibm_db.exec_immediate(conn, selectQuery)\n",
    "\n",
    "ibm_db.fetch_both(selectStmt)"
   ]
  },
  {
   "cell_type": "markdown",
   "id": "858f9ab6",
   "metadata": {
    "papermill": {
     "duration": 0.021478,
     "end_time": "2024-05-27T11:49:16.964742",
     "exception": false,
     "start_time": "2024-05-27T11:49:16.943264",
     "status": "completed"
    },
    "tags": []
   },
   "source": [
    "### Retrieving Data into Pandas"
   ]
  },
  {
   "cell_type": "code",
   "execution_count": 16,
   "id": "5d7088d9",
   "metadata": {
    "execution": {
     "iopub.execute_input": "2024-05-27T11:49:17.016151Z",
     "iopub.status.busy": "2024-05-27T11:49:17.015580Z",
     "iopub.status.idle": "2024-05-27T11:49:17.024097Z",
     "shell.execute_reply": "2024-05-27T11:49:17.022767Z"
    },
    "papermill": {
     "duration": 0.041178,
     "end_time": "2024-05-27T11:49:17.027444",
     "exception": false,
     "start_time": "2024-05-27T11:49:16.986266",
     "status": "completed"
    },
    "tags": []
   },
   "outputs": [],
   "source": [
    "import pandas as pd \n",
    "import ibm_db_dbi"
   ]
  },
  {
   "cell_type": "code",
   "execution_count": 17,
   "id": "dea2579c",
   "metadata": {
    "execution": {
     "iopub.execute_input": "2024-05-27T11:49:17.072888Z",
     "iopub.status.busy": "2024-05-27T11:49:17.072432Z",
     "iopub.status.idle": "2024-05-27T11:49:17.078221Z",
     "shell.execute_reply": "2024-05-27T11:49:17.076977Z"
    },
    "papermill": {
     "duration": 0.031681,
     "end_time": "2024-05-27T11:49:17.081310",
     "exception": false,
     "start_time": "2024-05-27T11:49:17.049629",
     "status": "completed"
    },
    "tags": []
   },
   "outputs": [],
   "source": [
    "# Connection for pandas\n",
    "pconn = ibm_db_dbi.Connection(conn)"
   ]
  },
  {
   "cell_type": "code",
   "execution_count": 18,
   "id": "e1eb3780",
   "metadata": {
    "execution": {
     "iopub.execute_input": "2024-05-27T11:49:17.130949Z",
     "iopub.status.busy": "2024-05-27T11:49:17.130524Z",
     "iopub.status.idle": "2024-05-27T11:49:17.710163Z",
     "shell.execute_reply": "2024-05-27T11:49:17.708578Z"
    },
    "papermill": {
     "duration": 0.609158,
     "end_time": "2024-05-27T11:49:17.713312",
     "exception": false,
     "start_time": "2024-05-27T11:49:17.104154",
     "status": "completed"
    },
    "tags": []
   },
   "outputs": [
    {
     "name": "stderr",
     "output_type": "stream",
     "text": [
      "/tmp/ipykernel_18/532998386.py:3: UserWarning: pandas only supports SQLAlchemy connectable (engine/connection) or database string URI or sqlite3 DBAPI2 connection. Other DBAPI2 objects are not tested. Please consider using SQLAlchemy.\n",
      "  pdf = pd.read_sql(selectQuery, pconn)\n"
     ]
    },
    {
     "data": {
      "text/plain": [
       "'Mbappe'"
      ]
     },
     "execution_count": 18,
     "metadata": {},
     "output_type": "execute_result"
    }
   ],
   "source": [
    " \n",
    "selectQuery = \"select * from FOOTBALLERS\"\n",
    "\n",
    "pdf = pd.read_sql(selectQuery, pconn)\n",
    "\n",
    "pdf.LNAME[2]"
   ]
  },
  {
   "cell_type": "code",
   "execution_count": 19,
   "id": "2d85bf2c",
   "metadata": {
    "execution": {
     "iopub.execute_input": "2024-05-27T11:49:17.761270Z",
     "iopub.status.busy": "2024-05-27T11:49:17.760326Z",
     "iopub.status.idle": "2024-05-27T11:49:17.782776Z",
     "shell.execute_reply": "2024-05-27T11:49:17.781726Z"
    },
    "papermill": {
     "duration": 0.050272,
     "end_time": "2024-05-27T11:49:17.785642",
     "exception": false,
     "start_time": "2024-05-27T11:49:17.735370",
     "status": "completed"
    },
    "tags": []
   },
   "outputs": [
    {
     "data": {
      "text/html": [
       "<div>\n",
       "<style scoped>\n",
       "    .dataframe tbody tr th:only-of-type {\n",
       "        vertical-align: middle;\n",
       "    }\n",
       "\n",
       "    .dataframe tbody tr th {\n",
       "        vertical-align: top;\n",
       "    }\n",
       "\n",
       "    .dataframe thead th {\n",
       "        text-align: right;\n",
       "    }\n",
       "</style>\n",
       "<table border=\"1\" class=\"dataframe\">\n",
       "  <thead>\n",
       "    <tr style=\"text-align: right;\">\n",
       "      <th></th>\n",
       "      <th>ID</th>\n",
       "      <th>FNAME</th>\n",
       "      <th>LNAME</th>\n",
       "      <th>AGE</th>\n",
       "      <th>POSITION</th>\n",
       "      <th>LEAGUE</th>\n",
       "      <th>TEAM</th>\n",
       "      <th>WAGE</th>\n",
       "    </tr>\n",
       "  </thead>\n",
       "  <tbody>\n",
       "    <tr>\n",
       "      <th>0</th>\n",
       "      <td>1</td>\n",
       "      <td>Bukayo</td>\n",
       "      <td>Saka</td>\n",
       "      <td>22</td>\n",
       "      <td>RW</td>\n",
       "      <td>Premier League</td>\n",
       "      <td>Arsenal</td>\n",
       "      <td>295000</td>\n",
       "    </tr>\n",
       "    <tr>\n",
       "      <th>1</th>\n",
       "      <td>2</td>\n",
       "      <td>Declan</td>\n",
       "      <td>Rice</td>\n",
       "      <td>25</td>\n",
       "      <td>CM</td>\n",
       "      <td>Premier League</td>\n",
       "      <td>Arsenal</td>\n",
       "      <td>250000</td>\n",
       "    </tr>\n",
       "    <tr>\n",
       "      <th>2</th>\n",
       "      <td>3</td>\n",
       "      <td>Kylian</td>\n",
       "      <td>Mbappe</td>\n",
       "      <td>25</td>\n",
       "      <td>LW</td>\n",
       "      <td>Ligue 1</td>\n",
       "      <td>PSG</td>\n",
       "      <td>630000</td>\n",
       "    </tr>\n",
       "    <tr>\n",
       "      <th>3</th>\n",
       "      <td>4</td>\n",
       "      <td>Jude</td>\n",
       "      <td>Bellingham</td>\n",
       "      <td>20</td>\n",
       "      <td>CM</td>\n",
       "      <td>La Liga</td>\n",
       "      <td>Real Madrid</td>\n",
       "      <td>220000</td>\n",
       "    </tr>\n",
       "    <tr>\n",
       "      <th>4</th>\n",
       "      <td>5</td>\n",
       "      <td>Phil</td>\n",
       "      <td>Foden</td>\n",
       "      <td>23</td>\n",
       "      <td>CM</td>\n",
       "      <td>Premier League</td>\n",
       "      <td>Man City</td>\n",
       "      <td>200000</td>\n",
       "    </tr>\n",
       "    <tr>\n",
       "      <th>5</th>\n",
       "      <td>6</td>\n",
       "      <td>Marcus</td>\n",
       "      <td>Rashford</td>\n",
       "      <td>26</td>\n",
       "      <td>LW</td>\n",
       "      <td>Premier League</td>\n",
       "      <td>Man United</td>\n",
       "      <td>300000</td>\n",
       "    </tr>\n",
       "  </tbody>\n",
       "</table>\n",
       "</div>"
      ],
      "text/plain": [
       "   ID   FNAME       LNAME  AGE POSITION          LEAGUE         TEAM    WAGE\n",
       "0   1  Bukayo        Saka   22       RW  Premier League      Arsenal  295000\n",
       "1   2  Declan        Rice   25       CM  Premier League      Arsenal  250000\n",
       "2   3  Kylian      Mbappe   25       LW         Ligue 1          PSG  630000\n",
       "3   4    Jude  Bellingham   20       CM         La Liga  Real Madrid  220000\n",
       "4   5    Phil       Foden   23       CM  Premier League     Man City  200000\n",
       "5   6  Marcus    Rashford   26       LW  Premier League   Man United  300000"
      ]
     },
     "execution_count": 19,
     "metadata": {},
     "output_type": "execute_result"
    }
   ],
   "source": [
    "pdf"
   ]
  },
  {
   "cell_type": "code",
   "execution_count": 20,
   "id": "97e2b0e1",
   "metadata": {
    "execution": {
     "iopub.execute_input": "2024-05-27T11:49:17.833207Z",
     "iopub.status.busy": "2024-05-27T11:49:17.832678Z",
     "iopub.status.idle": "2024-05-27T11:49:17.841107Z",
     "shell.execute_reply": "2024-05-27T11:49:17.839121Z"
    },
    "papermill": {
     "duration": 0.036326,
     "end_time": "2024-05-27T11:49:17.843865",
     "exception": false,
     "start_time": "2024-05-27T11:49:17.807539",
     "status": "completed"
    },
    "tags": []
   },
   "outputs": [
    {
     "data": {
      "text/plain": [
       "(6, 8)"
      ]
     },
     "execution_count": 20,
     "metadata": {},
     "output_type": "execute_result"
    }
   ],
   "source": [
    "pdf.shape"
   ]
  },
  {
   "cell_type": "code",
   "execution_count": 21,
   "id": "61d87482",
   "metadata": {
    "execution": {
     "iopub.execute_input": "2024-05-27T11:49:17.891463Z",
     "iopub.status.busy": "2024-05-27T11:49:17.890134Z",
     "iopub.status.idle": "2024-05-27T11:49:17.904030Z",
     "shell.execute_reply": "2024-05-27T11:49:17.902411Z"
    },
    "papermill": {
     "duration": 0.041266,
     "end_time": "2024-05-27T11:49:17.907223",
     "exception": false,
     "start_time": "2024-05-27T11:49:17.865957",
     "status": "completed"
    },
    "tags": []
   },
   "outputs": [
    {
     "data": {
      "text/plain": [
       "<bound method NDFrame.describe of    ID   FNAME       LNAME  AGE POSITION          LEAGUE         TEAM    WAGE\n",
       "0   1  Bukayo        Saka   22       RW  Premier League      Arsenal  295000\n",
       "1   2  Declan        Rice   25       CM  Premier League      Arsenal  250000\n",
       "2   3  Kylian      Mbappe   25       LW         Ligue 1          PSG  630000\n",
       "3   4    Jude  Bellingham   20       CM         La Liga  Real Madrid  220000\n",
       "4   5    Phil       Foden   23       CM  Premier League     Man City  200000\n",
       "5   6  Marcus    Rashford   26       LW  Premier League   Man United  300000>"
      ]
     },
     "execution_count": 21,
     "metadata": {},
     "output_type": "execute_result"
    }
   ],
   "source": [
    "pdf.describe"
   ]
  },
  {
   "cell_type": "markdown",
   "id": "6a03584e",
   "metadata": {
    "papermill": {
     "duration": 0.021931,
     "end_time": "2024-05-27T11:49:17.952160",
     "exception": false,
     "start_time": "2024-05-27T11:49:17.930229",
     "status": "completed"
    },
    "tags": []
   },
   "source": [
    "### Always close connection :)"
   ]
  },
  {
   "cell_type": "code",
   "execution_count": 22,
   "id": "cb258ee2",
   "metadata": {
    "execution": {
     "iopub.execute_input": "2024-05-27T11:49:17.999076Z",
     "iopub.status.busy": "2024-05-27T11:49:17.998598Z",
     "iopub.status.idle": "2024-05-27T11:49:18.155203Z",
     "shell.execute_reply": "2024-05-27T11:49:18.153596Z"
    },
    "papermill": {
     "duration": 0.183874,
     "end_time": "2024-05-27T11:49:18.158183",
     "exception": false,
     "start_time": "2024-05-27T11:49:17.974309",
     "status": "completed"
    },
    "tags": []
   },
   "outputs": [
    {
     "data": {
      "text/plain": [
       "True"
      ]
     },
     "execution_count": 22,
     "metadata": {},
     "output_type": "execute_result"
    }
   ],
   "source": [
    "ibm_db.close(conn)"
   ]
  }
 ],
 "metadata": {
  "kaggle": {
   "accelerator": "none",
   "dataSources": [],
   "dockerImageVersionId": 30698,
   "isGpuEnabled": false,
   "isInternetEnabled": true,
   "language": "python",
   "sourceType": "notebook"
  },
  "kernelspec": {
   "display_name": "Python 3",
   "language": "python",
   "name": "python3"
  },
  "language_info": {
   "codemirror_mode": {
    "name": "ipython",
    "version": 3
   },
   "file_extension": ".py",
   "mimetype": "text/x-python",
   "name": "python",
   "nbconvert_exporter": "python",
   "pygments_lexer": "ipython3",
   "version": "3.10.13"
  },
  "papermill": {
   "default_parameters": {},
   "duration": 155.167116,
   "end_time": "2024-05-27T11:49:19.106924",
   "environment_variables": {},
   "exception": null,
   "input_path": "__notebook__.ipynb",
   "output_path": "__notebook__.ipynb",
   "parameters": {},
   "start_time": "2024-05-27T11:46:43.939808",
   "version": "2.5.0"
  }
 },
 "nbformat": 4,
 "nbformat_minor": 5
}
